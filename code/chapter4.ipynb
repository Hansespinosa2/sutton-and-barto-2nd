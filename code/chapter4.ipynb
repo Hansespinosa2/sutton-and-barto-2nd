{
 "cells": [
  {
   "cell_type": "markdown",
   "metadata": {},
   "source": [
    "# 4.1 Policy Evaluation"
   ]
  },
  {
   "cell_type": "code",
   "execution_count": 3,
   "metadata": {},
   "outputs": [],
   "source": [
    "import numpy as np\n",
    "import matplotlib.pyplot as plt\n",
    "np.random.seed(42)"
   ]
  },
  {
   "cell_type": "code",
   "execution_count": 5,
   "metadata": {},
   "outputs": [],
   "source": [
    "import gym\n",
    "from gym import spaces\n",
    "from gym.utils import seeding\n",
    "\n",
    "def map_to_coordinates(number):\n",
    "  row = number // 4\n",
    "  col = number % 4\n",
    "  return [row, col]"
   ]
  },
  {
   "cell_type": "code",
   "execution_count": 116,
   "metadata": {},
   "outputs": [],
   "source": [
    "\n",
    "class GridWorldEnv(gym.Env):\n",
    "    def __init__(self, grid_size=(4,4)):\n",
    "        super().__init__()\n",
    "        self.grid_size = grid_size\n",
    "        self.action_space = spaces.Discrete(4)\n",
    "        self.observation_space = spaces.Discrete(np.prod(grid_size))\n",
    "        self.state = np.zeros(grid_size)\n",
    "        self.state[0,0] = 1\n",
    "\n",
    "    \n",
    "    def step(self, action):\n",
    "        x,y = self.get_pos()\n",
    "        if action==0 and y > 0:\n",
    "            #left side and moved left\n",
    "            y -= 1\n",
    "        elif action == 1 and x > 0:\n",
    "            #top side and moved up\n",
    "            x -=1\n",
    "        elif action == 2 and y < self.grid_size[1] - 1:\n",
    "            y +=1\n",
    "            #right side and moved right\n",
    "        elif action == 3 and x < self.grid_size[0] - 1:\n",
    "            #bottom side and moved down\n",
    "            x += 1\n",
    "            \n",
    "        self.state = np.zeros(self.grid_size)\n",
    "        self.state[x,y] = 1\n",
    "\n",
    "\n",
    "        observation = self.state.flatten()\n",
    "        reward = -1\n",
    "        terminated = self.state[self.grid_size[0] - 1, self.grid_size[1] - 1] == 1 #no unpack in 3.11 :(\n",
    "        truncated = False\n",
    "        info = {}\n",
    "\n",
    "        return observation, reward, terminated, truncated, info\n",
    "\n",
    "\n",
    "    def reset(self, seed=None):\n",
    "        super().reset(seed=seed)\n",
    "        self.state = np.zeros(self.grid_size)\n",
    "        self.state[0,0] = 1\n",
    "        info = {}\n",
    "        return self.state, info\n",
    "    \n",
    "    def render(self):\n",
    "        img = np.zeros((*self.grid_size, 3))\n",
    "\n",
    "        x,y = self.get_pos()\n",
    "        img[x,y,:] = 1\n",
    "        return img\n",
    "    \n",
    "    def display_render(self):\n",
    "        plt.figure(figsize=(1,1))\n",
    "        plt.imshow(self.render())\n",
    "        plt.axis('off')\n",
    "        plt.show()\n",
    "\n",
    "    def close(self):\n",
    "        pass\n",
    "    \n",
    "    def get_pos(self):\n",
    "        \n",
    "      x,y = np.where(self.state == 1)\n",
    "      return x[0], y[0]\n",
    "\n",
    "\n",
    "     \n"
   ]
  },
  {
   "cell_type": "code",
   "execution_count": 130,
   "metadata": {},
   "outputs": [
    {
     "name": "stdout",
     "output_type": "stream",
     "text": [
      "[-1.  0.  0.  0.  0.  0.  0.  0.  0.  0.  0.  0.  0.  0.  0.  0.]\n"
     ]
    },
    {
     "data": {
      "image/png": "[encoded data removed]",
      "text/plain": [
       "<Figure size 100x100 with 1 Axes>"
      ]
     },
     "metadata": {},
     "output_type": "display_data"
    },
    {
     "name": "stdout",
     "output_type": "stream",
     "text": [
      "[-1.  0.  0.  0. -1.  0.  0.  0.  0.  0.  0.  0.  0.  0.  0.  0.]\n"
     ]
    },
    {
     "data": {
      "image/png": "[encoded data removed]",
      "text/plain": [
       "<Figure size 100x100 with 1 Axes>"
      ]
     },
     "metadata": {},
     "output_type": "display_data"
    },
    {
     "name": "stdout",
     "output_type": "stream",
     "text": [
      "[-1.  0.  0.  0. -1.  0.  0.  0. -1.  0.  0.  0.  0.  0.  0.  0.]\n"
     ]
    },
    {
     "data": {
      "image/png": "[encoded data removed]",
      "text/plain": [
       "<Figure size 100x100 with 1 Axes>"
      ]
     },
     "metadata": {},
     "output_type": "display_data"
    },
    {
     "name": "stdout",
     "output_type": "stream",
     "text": [
      "[-1.  0.  0.  0. -1.  0.  0.  0. -1.  0.  0.  0. -1.  0.  0.  0.]\n"
     ]
    },
    {
     "data": {
      "image/png": "[encoded data removed]",
      "text/plain": [
       "<Figure size 100x100 with 1 Axes>"
      ]
     },
     "metadata": {},
     "output_type": "display_data"
    },
    {
     "name": "stdout",
     "output_type": "stream",
     "text": [
      "[-1.  0.  0.  0. -1.  0.  0.  0. -1.  0.  0.  0. -1. -1.  0.  0.]\n"
     ]
    },
    {
     "data": {
      "image/png": "[encoded data removed]",
      "text/plain": [
       "<Figure size 100x100 with 1 Axes>"
      ]
     },
     "metadata": {},
     "output_type": "display_data"
    },
    {
     "name": "stdout",
     "output_type": "stream",
     "text": [
      "[-1.  0.  0.  0. -1.  0.  0.  0. -1.  0.  0.  0. -1. -3.  0.  0.]\n"
     ]
    },
    {
     "data": {
      "image/png": "[encoded data removed]",
      "text/plain": [
       "<Figure size 100x100 with 1 Axes>"
      ]
     },
     "metadata": {},
     "output_type": "display_data"
    },
    {
     "name": "stdout",
     "output_type": "stream",
     "text": [
      "[-1.  0.  0.  0. -1.  0.  0.  0. -1.  0.  0.  0. -1. -4.  0.  0.]\n"
     ]
    },
    {
     "data": {
      "image/png": "[encoded data removed]",
      "text/plain": [
       "<Figure size 100x100 with 1 Axes>"
      ]
     },
     "metadata": {},
     "output_type": "display_data"
    },
    {
     "name": "stdout",
     "output_type": "stream",
     "text": [
      "[-1.  0.  0.  0. -1.  0.  0.  0. -1.  0.  0.  0. -1. -4. -1.  0.]\n"
     ]
    },
    {
     "data": {
      "image/png": "[encoded data removed]",
      "text/plain": [
       "<Figure size 100x100 with 1 Axes>"
      ]
     },
     "metadata": {},
     "output_type": "display_data"
    },
    {
     "name": "stdout",
     "output_type": "stream",
     "text": [
      "[-1.  0.  0.  0. -1.  0.  0.  0. -1.  0.  0.  0. -1. -4. -2.  0.]\n"
     ]
    },
    {
     "data": {
      "image/png": "[encoded data removed]",
      "text/plain": [
       "<Figure size 100x100 with 1 Axes>"
      ]
     },
     "metadata": {},
     "output_type": "display_data"
    },
    {
     "name": "stdout",
     "output_type": "stream",
     "text": [
      "[-10.   0.   0.   0.  -1.   0.   0.   0.  -1.   0.   0.   0.  -1.  -4.\n",
      "  -2.   0.]\n"
     ]
    },
    {
     "data": {
      "image/png": "[encoded data removed]",
      "text/plain": [
       "<Figure size 100x100 with 1 Axes>"
      ]
     },
     "metadata": {},
     "output_type": "display_data"
    },
    {
     "name": "stdout",
     "output_type": "stream",
     "text": [
      "[-10.   0.   0.   0.  -2.   0.   0.   0.  -1.   0.   0.   0.  -1.  -4.\n",
      "  -2.   0.]\n"
     ]
    },
    {
     "data": {
      "image/png": "[encoded data removed]",
      "text/plain": [
       "<Figure size 100x100 with 1 Axes>"
      ]
     },
     "metadata": {},
     "output_type": "display_data"
    },
    {
     "name": "stdout",
     "output_type": "stream",
     "text": [
      "[-10.   0.   0.   0.  -2.  -1.   0.   0.  -1.   0.   0.   0.  -1.  -4.\n",
      "  -2.   0.]\n"
     ]
    },
    {
     "data": {
      "image/png": "[encoded data removed]",
      "text/plain": [
       "<Figure size 100x100 with 1 Axes>"
      ]
     },
     "metadata": {},
     "output_type": "display_data"
    },
    {
     "name": "stdout",
     "output_type": "stream",
     "text": [
      "[-10.   0.   0.   0.  -2.  -1.   0.   0.  -1. -29.   0.   0.  -1.  -4.\n",
      "  -2.   0.]\n"
     ]
    },
    {
     "data": {
      "image/png": "[encoded data removed]",
      "text/plain": [
       "<Figure size 100x100 with 1 Axes>"
      ]
     },
     "metadata": {},
     "output_type": "display_data"
    },
    {
     "name": "stdout",
     "output_type": "stream",
     "text": [
      "[-10.   0.   0.   0.  -2.  -1.   0.   0.  -1. -29.   0.   0.  -1. -16.\n",
      "  -2.   0.]\n"
     ]
    },
    {
     "data": {
      "image/png": "[encoded data removed]",
      "text/plain": [
       "<Figure size 100x100 with 1 Axes>"
      ]
     },
     "metadata": {},
     "output_type": "display_data"
    },
    {
     "name": "stdout",
     "output_type": "stream",
     "text": [
      "[-10.   0.   0.   0.  -2.  -1.   0.   0.  -1. -29.   0.   0.  -1. -16.\n",
      "  -3.   0.]\n"
     ]
    },
    {
     "data": {
      "image/png": "[encoded data removed]",
      "text/plain": [
       "<Figure size 100x100 with 1 Axes>"
      ]
     },
     "metadata": {},
     "output_type": "display_data"
    },
    {
     "name": "stdout",
     "output_type": "stream",
     "text": [
      "[-11.   0.   0.   0.  -2.  -1.   0.   0.  -1. -29.   0.   0.  -1. -16.\n",
      "  -3.   0.]\n"
     ]
    },
    {
     "data": {
      "image/png": "[encoded data removed]",
      "text/plain": [
       "<Figure size 100x100 with 1 Axes>"
      ]
     },
     "metadata": {},
     "output_type": "display_data"
    },
    {
     "name": "stdout",
     "output_type": "stream",
     "text": [
      "[-11.  -1.   0.   0.  -2.  -1.   0.   0.  -1. -29.   0.   0.  -1. -16.\n",
      "  -3.   0.]\n"
     ]
    },
    {
     "data": {
      "image/png": "[encoded data removed]",
      "text/plain": [
       "<Figure size 100x100 with 1 Axes>"
      ]
     },
     "metadata": {},
     "output_type": "display_data"
    },
    {
     "name": "stdout",
     "output_type": "stream",
     "text": [
      "[-11.  -1.  -1.   0.  -2.  -1.   0.   0.  -1. -29.   0.   0.  -1. -16.\n",
      "  -3.   0.]\n"
     ]
    },
    {
     "data": {
      "image/png": "[encoded data removed]",
      "text/plain": [
       "<Figure size 100x100 with 1 Axes>"
      ]
     },
     "metadata": {},
     "output_type": "display_data"
    },
    {
     "name": "stdout",
     "output_type": "stream",
     "text": [
      "[-11.  -1.  -1.  -1.  -2.  -1.   0.   0.  -1. -29.   0.   0.  -1. -16.\n",
      "  -3.   0.]\n"
     ]
    },
    {
     "data": {
      "image/png": "[encoded data removed]",
      "text/plain": [
       "<Figure size 100x100 with 1 Axes>"
      ]
     },
     "metadata": {},
     "output_type": "display_data"
    },
    {
     "name": "stdout",
     "output_type": "stream",
     "text": [
      "[-11.  -1.  -1.  -3.  -2.  -1.   0.   0.  -1. -29.   0.   0.  -1. -16.\n",
      "  -3.   0.]\n"
     ]
    },
    {
     "data": {
      "image/png": "[encoded data removed]",
      "text/plain": [
       "<Figure size 100x100 with 1 Axes>"
      ]
     },
     "metadata": {},
     "output_type": "display_data"
    },
    {
     "name": "stdout",
     "output_type": "stream",
     "text": [
      "[-11.  -1.  -1.  -8.  -2.  -1.   0.   0.  -1. -29.   0.   0.  -1. -16.\n",
      "  -3.   0.]\n"
     ]
    },
    {
     "data": {
      "image/png": "[encoded data removed]",
      "text/plain": [
       "<Figure size 100x100 with 1 Axes>"
      ]
     },
     "metadata": {},
     "output_type": "display_data"
    },
    {
     "name": "stdout",
     "output_type": "stream",
     "text": [
      "[-11.  -1.  -1.  -9.  -2.  -1.   0.   0.  -1. -29.   0.   0.  -1. -16.\n",
      "  -3.   0.]\n"
     ]
    },
    {
     "data": {
      "image/png": "[encoded data removed]",
      "text/plain": [
       "<Figure size 100x100 with 1 Axes>"
      ]
     },
     "metadata": {},
     "output_type": "display_data"
    },
    {
     "name": "stdout",
     "output_type": "stream",
     "text": [
      "[-11.  -1.  -1.  -9.  -2.  -1.   0.  -1.  -1. -29.   0.   0.  -1. -16.\n",
      "  -3.   0.]\n"
     ]
    },
    {
     "data": {
      "image/png": "[encoded data removed]",
      "text/plain": [
       "<Figure size 100x100 with 1 Axes>"
      ]
     },
     "metadata": {},
     "output_type": "display_data"
    },
    {
     "name": "stdout",
     "output_type": "stream",
     "text": [
      "[-11.  -1.  -1.  -9.  -2.  -1.   0.  -1.  -1. -29.   0.  -1.  -1. -16.\n",
      "  -3.   0.]\n"
     ]
    },
    {
     "data": {
      "image/png": "[encoded data removed]",
      "text/plain": [
       "<Figure size 100x100 with 1 Axes>"
      ]
     },
     "metadata": {},
     "output_type": "display_data"
    },
    {
     "name": "stdout",
     "output_type": "stream",
     "text": [
      "[-11.  -1.  -1.  -9.  -2.  -1.   0.  -1.  -1. -29.   0.  -2.  -1. -16.\n",
      "  -3.   0.]\n"
     ]
    },
    {
     "data": {
      "image/png": "[encoded data removed]",
      "text/plain": [
       "<Figure size 100x100 with 1 Axes>"
      ]
     },
     "metadata": {},
     "output_type": "display_data"
    },
    {
     "name": "stdout",
     "output_type": "stream",
     "text": [
      "[-51.  -1.  -1.  -9.  -2.  -1.   0.  -1.  -1. -29.   0.  -2.  -1. -16.\n",
      "  -3.   0.]\n"
     ]
    },
    {
     "data": {
      "image/png": "[encoded data removed]",
      "text/plain": [
       "<Figure size 100x100 with 1 Axes>"
      ]
     },
     "metadata": {},
     "output_type": "display_data"
    },
    {
     "name": "stdout",
     "output_type": "stream",
     "text": [
      "[-51.  -1.  -1.  -9. -27.  -1.   0.  -1.  -1. -29.   0.  -2.  -1. -16.\n",
      "  -3.   0.]\n"
     ]
    },
    {
     "data": {
      "image/png": "[encoded data removed]",
      "text/plain": [
       "<Figure size 100x100 with 1 Axes>"
      ]
     },
     "metadata": {},
     "output_type": "display_data"
    },
    {
     "name": "stdout",
     "output_type": "stream",
     "text": [
      "[-51.  -1.  -1.  -9. -27.  -1.   0.  -1. -26. -29.   0.  -2.  -1. -16.\n",
      "  -3.   0.]\n"
     ]
    },
    {
     "data": {
      "image/png": "[encoded data removed]",
      "text/plain": [
       "<Figure size 100x100 with 1 Axes>"
      ]
     },
     "metadata": {},
     "output_type": "display_data"
    },
    {
     "name": "stdout",
     "output_type": "stream",
     "text": [
      "[ -51.   -1.   -1.   -9.  -27.   -1.    0.   -1.  -26.  -29.    0.   -2.\n",
      " -274.  -16.   -3.    0.]\n"
     ]
    },
    {
     "data": {
      "image/png": "[encoded data removed]",
      "text/plain": [
       "<Figure size 100x100 with 1 Axes>"
      ]
     },
     "metadata": {},
     "output_type": "display_data"
    },
    {
     "ename": "KeyboardInterrupt",
     "evalue": "",
     "output_type": "error",
     "traceback": [
      "\u001b[1;31m---------------------------------------------------------------------------\u001b[0m",
      "\u001b[1;31mKeyboardInterrupt\u001b[0m                         Traceback (most recent call last)",
      "Cell \u001b[1;32mIn[130], line 23\u001b[0m\n\u001b[0;32m     21\u001b[0m \u001b[38;5;28mprint\u001b[39m(v_of_s)\n\u001b[0;32m     22\u001b[0m env\u001b[38;5;241m.\u001b[39mdisplay_render()\n\u001b[1;32m---> 23\u001b[0m \u001b[43mtime\u001b[49m\u001b[38;5;241;43m.\u001b[39;49m\u001b[43msleep\u001b[49m\u001b[43m(\u001b[49m\u001b[38;5;241;43m1\u001b[39;49m\u001b[43m)\u001b[49m\n\u001b[0;32m     25\u001b[0m \u001b[38;5;28;01mif\u001b[39;00m terminated:\n\u001b[0;32m     26\u001b[0m \t\u001b[38;5;28;01mbreak\u001b[39;00m\n",
      "\u001b[1;31mKeyboardInterrupt\u001b[0m: "
     ]
    }
   ],
   "source": [
    "import time\n",
    "env = GridWorldEnv()\n",
    "theta = 0.01\n",
    "delta = None\n",
    "v_pi = np.zeros(env.observation_space.n)\n",
    "v_of_s = np.zeros(env.observation_space.n)\n",
    "terminated = False\n",
    "while delta == None or delta >= theta:\n",
    "\t\tdelta = 0\n",
    "\t\tenv.reset()\n",
    "\t\tfor state in range(env.observation_space.n):\n",
    "\t\t\tv_pi += v_of_s\n",
    "\t\t\taction = env.action_space.sample()\n",
    "\t\t\taction = np.random.choice([2,3])\n",
    "\t\t\ts = env.state.argmax()\n",
    "\t\t\tobs, reward, terminated, _, _ = env.step(action)\n",
    "\t\t\tsprime = env.state.argmax()\n",
    "\t\t\tv_of_s[s] += reward + v_pi[sprime]\n",
    "\t\t\tmax_change = max(np.abs(v_pi - v_of_s))\n",
    "\t\t\tdelta = max(delta, max_change )\n",
    "\t\t\tprint(v_of_s)\n",
    "\t\t\tenv.display_render()\n",
    "\t\t\ttime.sleep(1)\n",
    "\n",
    "\t\t\tif terminated:\n",
    "\t\t\t\tbreak\n",
    "\t\t"
   ]
  },
  {
   "cell_type": "code",
   "execution_count": 105,
   "metadata": {},
   "outputs": [
    {
     "data": {
      "text/plain": [
       "array([0., 0., 0., 0., 0., 0., 0., 0., 0., 0., 0., 0., 0., 0., 0., 0.])"
      ]
     },
     "execution_count": 105,
     "metadata": {},
     "output_type": "execute_result"
    }
   ],
   "source": [
    "v_pi = np.zeros(env.observation_space.n)\n",
    "v_pi"
   ]
  },
  {
   "cell_type": "code",
   "execution_count": 121,
   "metadata": {},
   "outputs": [
    {
     "data": {
      "text/plain": [
       "2"
      ]
     },
     "execution_count": 121,
     "metadata": {},
     "output_type": "execute_result"
    }
   ],
   "source": [
    "np.random.choice([2,3])"
   ]
  },
  {
   "cell_type": "code",
   "execution_count": null,
   "metadata": {},
   "outputs": [],
   "source": []
  }
 ],
 "metadata": {
  "kernelspec": {
   "display_name": "sutton-env",
   "language": "python",
   "name": "python3"
  },
  "language_info": {
   "codemirror_mode": {
    "name": "ipython",
    "version": 3
   },
   "file_extension": ".py",
   "mimetype": "text/x-python",
   "name": "python",
   "nbconvert_exporter": "python",
   "pygments_lexer": "ipython3",
   "version": "3.10.11"
  }
 },
 "nbformat": 4,
 "nbformat_minor": 2
}
