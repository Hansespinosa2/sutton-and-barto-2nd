{
 "cells": [
  {
   "cell_type": "markdown",
   "metadata": {},
   "source": [
    "# 4.1 Policy Evaluation"
   ]
  },
  {
   "cell_type": "code",
   "execution_count": 3,
   "metadata": {},
   "outputs": [],
   "source": [
    "import numpy as np\n",
    "import matplotlib.pyplot as plt\n",
    "np.random.seed(42)"
   ]
  },
  {
   "cell_type": "code",
   "execution_count": 5,
   "metadata": {},
   "outputs": [],
   "source": [
    "import gym\n",
    "from gym import spaces\n",
    "from gym.utils import seeding\n",
    "\n",
    "def map_to_coordinates(number):\n",
    "  row = number // 4\n",
    "  col = number % 4\n",
    "  return [row, col]"
   ]
  },
  {
   "cell_type": "code",
   "execution_count": 116,
   "metadata": {},
   "outputs": [],
   "source": [
    "\n",
    "class GridWorldEnv(gym.Env):\n",
    "    def __init__(self, grid_size=(4,4)):\n",
    "        super().__init__()\n",
    "        self.grid_size = grid_size\n",
    "        self.action_space = spaces.Discrete(4)\n",
    "        self.observation_space = spaces.Discrete(np.prod(grid_size))\n",
    "        self.state = np.zeros(grid_size)\n",
    "        self.state[0,0] = 1\n",
    "\n",
    "    \n",
    "    def step(self, action):\n",
    "        x,y = self.get_pos()\n",
    "        if action==0 and y > 0:\n",
    "            #left side and moved left\n",
    "            y -= 1\n",
    "        elif action == 1 and x > 0:\n",
    "            #top side and moved up\n",
    "            x -=1\n",
    "        elif action == 2 and y < self.grid_size[1] - 1:\n",
    "            y +=1\n",
    "            #right side and moved right\n",
    "        elif action == 3 and x < self.grid_size[0] - 1:\n",
    "            #bottom side and moved down\n",
    "            x += 1\n",
    "            \n",
    "        self.state = np.zeros(self.grid_size)\n",
    "        self.state[x,y] = 1\n",
    "\n",
    "\n",
    "        observation = self.state.flatten()\n",
    "        reward = -1\n",
    "        terminated = self.state[self.grid_size[0] - 1, self.grid_size[1] - 1] == 1 #no unpack in 3.11 :(\n",
    "        truncated = False\n",
    "        info = {}\n",
    "\n",
    "        return observation, reward, terminated, truncated, info\n",
    "\n",
    "\n",
    "    def reset(self, seed=None):\n",
    "        super().reset(seed=seed)\n",
    "        self.state = np.zeros(self.grid_size)\n",
    "        self.state[0,0] = 1\n",
    "        info = {}\n",
    "        return self.state, info\n",
    "    \n",
    "    def render(self):\n",
    "        img = np.zeros((*self.grid_size, 3))\n",
    "\n",
    "        x,y = self.get_pos()\n",
    "        img[x,y,:] = 1\n",
    "        return img\n",
    "    \n",
    "    def display_render(self):\n",
    "        plt.figure(figsize=(1,1))\n",
    "        plt.imshow(self.render())\n",
    "        plt.axis('off')\n",
    "        plt.show()\n",
    "\n",
    "    def close(self):\n",
    "        pass\n",
    "    \n",
    "    def get_pos(self):\n",
    "        \n",
    "      x,y = np.where(self.state == 1)\n",
    "      return x[0], y[0]\n",
    "\n",
    "\n",
    "     \n"
   ]
  },
  {
   "cell_type": "code",
   "execution_count": 132,
   "metadata": {},
   "outputs": [
    {
     "name": "stdout",
     "output_type": "stream",
     "text": [
      "[-1.         -1.2475     -1.30875625 -1.32391717 -1.2475     -1.6175125\n",
      " -1.72425152 -1.75442175 -1.30875625 -1.72425152 -1.8535045  -1.89296175\n",
      " -1.32391717 -1.75442175 -1.89296175 -1.93701606]\n"
     ]
    },
    {
     "data": {
      "image/png": "[encoded data removed]",
      "text/plain": [
       "<Figure size 100x100 with 1 Axes>"
      ]
     },
     "metadata": {},
     "output_type": "display_data"
    },
    {
     "name": "stdout",
     "output_type": "stream",
     "text": [
      "[-2.1125125  -2.55585461 -2.71091294 -2.76050934 -2.55585461 -3.11865253\n",
      " -3.3357792  -3.41155883 -2.71091294 -3.3357792  -3.58822677 -3.68036644\n",
      " -2.76050934 -3.41155883 -3.68036644 -3.78060434]\n"
     ]
    },
    {
     "data": {
      "image/png": "[encoded data removed]",
      "text/plain": [
       "<Figure size 100x100 with 1 Axes>"
      ]
     },
     "metadata": {},
     "output_type": "display_data"
    },
    {
     "ename": "KeyboardInterrupt",
     "evalue": "",
     "output_type": "error",
     "traceback": [
      "\u001b[1;31m---------------------------------------------------------------------------\u001b[0m",
      "\u001b[1;31mKeyboardInterrupt\u001b[0m                         Traceback (most recent call last)",
      "Cell \u001b[1;32mIn[132], line 32\u001b[0m\n\u001b[0;32m     30\u001b[0m \u001b[38;5;28mprint\u001b[39m(v_pi)\n\u001b[0;32m     31\u001b[0m env\u001b[38;5;241m.\u001b[39mdisplay_render()\n\u001b[1;32m---> 32\u001b[0m \u001b[43mtime\u001b[49m\u001b[38;5;241;43m.\u001b[39;49m\u001b[43msleep\u001b[49m\u001b[43m(\u001b[49m\u001b[38;5;241;43m1\u001b[39;49m\u001b[43m)\u001b[49m\n",
      "\u001b[1;31mKeyboardInterrupt\u001b[0m: "
     ]
    }
   ],
   "source": [
    "import numpy as np\n",
    "import time\n",
    "\n",
    "env = GridWorldEnv()\n",
    "theta = 0.01\n",
    "delta = None\n",
    "v_pi = np.zeros(env.observation_space.n)\n",
    "gamma = 0.99  # Discount factor\n",
    "\n",
    "while delta is None or delta >= theta:\n",
    "    delta = 0\n",
    "    for state in range(env.observation_space.n):\n",
    "        env.reset()\n",
    "        env.state = np.zeros(env.grid_size)\n",
    "        env.state[state // env.grid_size[1], state % env.grid_size[1]] = 1  # Set the state\n",
    "\n",
    "        old_value = v_pi[state]\n",
    "        new_value = 0\n",
    "        for action in range(env.action_space.n):\n",
    "            env.state = np.zeros(env.grid_size)\n",
    "            env.state[state // env.grid_size[1], state % env.grid_size[1]] = 1  # Reset the state to the current state\n",
    "\n",
    "            obs, reward, terminated, _, _ = env.step(action)\n",
    "            sprime = env.state.argmax()\n",
    "            new_value += 0.25 * (reward + gamma * v_pi[sprime])  # Assume equal probability for actions\n",
    "\n",
    "        v_pi[state] = new_value\n",
    "        delta = max(delta, abs(old_value - v_pi[state]))\n",
    "\n",
    "    print(v_pi)\n",
    "    env.display_render()\n",
    "    time.sleep(1)\n"
   ]
  },
  {
   "cell_type": "markdown",
   "metadata": {},
   "source": [
    "# 4.3 Policy Iteration"
   ]
  },
  {
   "cell_type": "markdown",
   "metadata": {},
   "source": []
  }
 ],
 "metadata": {
  "kernelspec": {
   "display_name": "sutton-env",
   "language": "python",
   "name": "python3"
  },
  "language_info": {
   "codemirror_mode": {
    "name": "ipython",
    "version": 3
   },
   "file_extension": ".py",
   "mimetype": "text/x-python",
   "name": "python",
   "nbconvert_exporter": "python",
   "pygments_lexer": "ipython3",
   "version": "3.10.11"
  }
 },
 "nbformat": 4,
 "nbformat_minor": 2
}
